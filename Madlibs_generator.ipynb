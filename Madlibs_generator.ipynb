{
 "cells": [
  {
   "cell_type": "code",
   "execution_count": null,
   "id": "e78d9b5b-a0de-496e-8452-d1a170edd6f9",
   "metadata": {},
   "outputs": [],
   "source": [
    "with open(\"story.txt\",\"r\") as f:\n",
    "    story=f.read()\n",
    "words=set()\n",
    "start_of_word=-1\n",
    "target_start=\"<\"\n",
    "target_end=\">\"\n",
    "for i, char in enumerate(story):\n",
    "    if char==target_start:\n",
    "        start_of_word=i\n",
    "    if char==target_end and start_of_word!=-1:\n",
    "        word=story[start_of_word: i+1]\n",
    "        words.add(word)\n",
    "        start_of_words=-1\n",
    "\n",
    "answers={}\n",
    "\n",
    "for word in words:\n",
    "    answer=input(\"enter a word for \" + word + \": \")\n",
    "    answers[word]=answer\n",
    "\n",
    "for word in words:\n",
    "    story= story.replace(word, answers[word])\n",
    "\n",
    "print (story)"
   ]
  }
 ],
 "metadata": {
  "kernelspec": {
   "display_name": "Python 3 (ipykernel)",
   "language": "python",
   "name": "python3"
  },
  "language_info": {
   "codemirror_mode": {
    "name": "ipython",
    "version": 3
   },
   "file_extension": ".py",
   "mimetype": "text/x-python",
   "name": "python",
   "nbconvert_exporter": "python",
   "pygments_lexer": "ipython3",
   "version": "3.12.4"
  }
 },
 "nbformat": 4,
 "nbformat_minor": 5
}
